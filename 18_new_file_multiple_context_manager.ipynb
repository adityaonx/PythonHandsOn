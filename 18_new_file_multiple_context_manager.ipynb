{
 "cells": [
  {
   "cell_type": "code",
   "execution_count": 8,
   "metadata": {},
   "outputs": [
    {
     "name": "stdout",
     "output_type": "stream",
     "text": [
      "['By Devin Balkcom, with significant contributions from Tom Cormen and Hany Farid. We recommend using an updated version of Chrome or Firefox to run the interactive examples.'] \n",
      " ['Project Python is a free interactive book that will teach you to code in Python, using graphics, animations, and games. You’ll also learn ways to solve classical computer science problems, principles of software design, and how to analyze algorithm performance. No prior experience required; you’ll write code to draw a smiley face by the end of the first chapter.']\n"
     ]
    }
   ],
   "source": [
    "with (\n",
    "    open('file1.txt') as f1,\n",
    "    open('file2.txt') as f2\n",
    "):\n",
    "    ls1 = f1.readlines()\n",
    "    ls2 = f2.readlines()\n",
    "    print(ls1 ,\"\\n\",ls2)\n",
    "    "
   ]
  }
 ],
 "metadata": {
  "kernelspec": {
   "display_name": "pyNotebook",
   "language": "python",
   "name": "python3"
  },
  "language_info": {
   "codemirror_mode": {
    "name": "ipython",
    "version": 3
   },
   "file_extension": ".py",
   "mimetype": "text/x-python",
   "name": "python",
   "nbconvert_exporter": "python",
   "pygments_lexer": "ipython3",
   "version": "3.12.3"
  }
 },
 "nbformat": 4,
 "nbformat_minor": 2
}
