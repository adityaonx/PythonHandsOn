{
 "cells": [
  {
   "cell_type": "code",
   "execution_count": null,
   "id": "2ce94d36-2c07-487b-a2b1-d18fa5e3dab9",
   "metadata": {},
   "outputs": [
    {
     "name": "stdout",
     "output_type": "stream",
     "text": [
      "Hello\n"
     ]
    }
   ],
   "source": [
    "# Example1\n",
    "str1 = \"Hello\"\n",
    "str1.upper()\n",
    "print(str1) #Unmodified string(Original) Hello\n"
   ]
  },
  {
   "cell_type": "code",
   "execution_count": null,
   "id": "eb5dd38a-c069-4a35-94d8-174ef3a82fc7",
   "metadata": {},
   "outputs": [
    {
     "ename": "SyntaxError",
     "evalue": "invalid decimal literal (571061366.py, line 2)",
     "output_type": "error",
     "traceback": [
      "\u001b[0;36m  Cell \u001b[0;32mIn[3], line 2\u001b[0;36m\u001b[0m\n\u001b[0;31m    1str1 = \"Error\"\u001b[0m\n\u001b[0m    ^\u001b[0m\n\u001b[0;31mSyntaxError\u001b[0m\u001b[0;31m:\u001b[0m invalid decimal literal\n"
     ]
    }
   ],
   "source": [
    "#Fix\n",
    "str2 = \"Hello\"\n",
    "string_mod = str2.upper()\n",
    "print(string_mod) #HELLO"
   ]
  },
  {
   "cell_type": "code",
   "execution_count": 1,
   "id": "a57028e6-2da7-4764-9b9e-6678d2e0d4a4",
   "metadata": {},
   "outputs": [
    {
     "name": "stdout",
     "output_type": "stream",
     "text": [
      "zzzzzzzzzz\n"
     ]
    }
   ],
   "source": [
    "#Printing a string multiple time\n",
    "string_1 = \"z\"\n",
    "print(string_1*10) #zzzzzzzzzz"
   ]
  },
  {
   "cell_type": "code",
   "execution_count": 2,
   "id": "bab4d4e3",
   "metadata": {},
   "outputs": [
    {
     "name": "stdout",
     "output_type": "stream",
     "text": [
      "True\n"
     ]
    }
   ],
   "source": [
    "#ExtraOrdinary case\n",
    "x = str(\"spam\" \" eggs\")\n",
    "y = \"spam eggs\"\n",
    "print(x==y)"
   ]
  },
  {
   "cell_type": "code",
   "execution_count": 3,
   "id": "4921ddf9",
   "metadata": {},
   "outputs": [
    {
     "ename": "SyntaxError",
     "evalue": "expected ':' (2984132617.py, line 3)",
     "output_type": "error",
     "traceback": [
      "\u001b[0;36m  Cell \u001b[0;32mIn[3], line 3\u001b[0;36m\u001b[0m\n\u001b[0;31m    class str (object = '')\u001b[0m\n\u001b[0m                           ^\u001b[0m\n\u001b[0;31mSyntaxError\u001b[0m\u001b[0;31m:\u001b[0m expected ':'\n"
     ]
    }
   ],
   "source": [
    "#3 Strings may also be created from other objects using the 'str' constructor.\n",
    "#Returns string version of object.\n",
    "class str (object = '')"
   ]
  }
 ],
 "metadata": {
  "kernelspec": {
   "display_name": "Python 3 (ipykernel)",
   "language": "python",
   "name": "python3"
  },
  "language_info": {
   "codemirror_mode": {
    "name": "ipython",
    "version": 3
   },
   "file_extension": ".py",
   "mimetype": "text/x-python",
   "name": "python",
   "nbconvert_exporter": "python",
   "pygments_lexer": "ipython3",
   "version": "3.12.3"
  }
 },
 "nbformat": 4,
 "nbformat_minor": 5
}
