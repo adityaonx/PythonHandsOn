{
 "cells": [
  {
   "cell_type": "code",
   "execution_count": 2,
   "metadata": {},
   "outputs": [
    {
     "name": "stdout",
     "output_type": "stream",
     "text": [
      "x has an index 0\n",
      "y has an index 1\n",
      "z has an index 2\n"
     ]
    }
   ],
   "source": [
    "#Add numeric variable along with item in item_list\n",
    "list1 = [\"x\",\"y\",\"z\"]\n",
    "\n",
    "for ls_index, item in enumerate(list1):\n",
    "    print(f\"{item} has an index {ls_index}\")"
   ]
  }
 ],
 "metadata": {
  "kernelspec": {
   "display_name": "pyNotebook",
   "language": "python",
   "name": "python3"
  },
  "language_info": {
   "codemirror_mode": {
    "name": "ipython",
    "version": 3
   },
   "file_extension": ".py",
   "mimetype": "text/x-python",
   "name": "python",
   "nbconvert_exporter": "python",
   "pygments_lexer": "ipython3",
   "version": "3.12.3"
  }
 },
 "nbformat": 4,
 "nbformat_minor": 2
}
