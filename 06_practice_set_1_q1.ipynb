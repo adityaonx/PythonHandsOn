{
 "cells": [
  {
   "cell_type": "code",
   "execution_count": 1,
   "metadata": {},
   "outputs": [
    {
     "name": "stdout",
     "output_type": "stream",
     "text": [
      "Name is Aditya and Salary is 120000\n",
      "Name is Kuldeep and Salary is 140000\n"
     ]
    }
   ],
   "source": [
    "class Programmer():\n",
    "        company = \"Microsoft\"\n",
    "        def __init__(self,name,salary):\n",
    "                self.name = name\n",
    "                self.salary = salary\n",
    "p1= Programmer(\"Aditya\",120000)\n",
    "p2= Programmer(\"Kuldeep\",140000)\n",
    "\n",
    "l1=[p1,p2]\n",
    "for i in l1:\n",
    "        print(f\"Name is {i.name} and Salary is {i.salary}\")               \n",
    "                "
   ]
  }
 ],
 "metadata": {
  "kernelspec": {
   "display_name": "Python 3",
   "language": "python",
   "name": "python3"
  },
  "language_info": {
   "codemirror_mode": {
    "name": "ipython",
    "version": 3
   },
   "file_extension": ".py",
   "mimetype": "text/x-python",
   "name": "python",
   "nbconvert_exporter": "python",
   "pygments_lexer": "ipython3",
   "version": "3.12.3"
  }
 },
 "nbformat": 4,
 "nbformat_minor": 2
}
