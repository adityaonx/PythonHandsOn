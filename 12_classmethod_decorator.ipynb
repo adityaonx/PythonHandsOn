{
 "cells": [
  {
   "cell_type": "code",
   "execution_count": 1,
   "metadata": {},
   "outputs": [
    {
     "name": "stdout",
     "output_type": "stream",
     "text": [
      "object value of a 45 \n"
     ]
    }
   ],
   "source": [
    "class Employee():\n",
    "        a = 1\n",
    "        def show(self):\n",
    "                print(f\"object value of a {self.a} \")\n",
    "e1 = Employee()\n",
    "e1.a = 45\n",
    "e1.show()     #Value changed to 45 becuz of object        "
   ]
  },
  {
   "cell_type": "code",
   "execution_count": 3,
   "metadata": {},
   "outputs": [
    {
     "name": "stdout",
     "output_type": "stream",
     "text": [
      "object value of a 1 \n"
     ]
    }
   ],
   "source": [
    "class Employee():\n",
    "        a = 1\n",
    "        @classmethod\n",
    "        def show(cls):\n",
    "                print(f\"object value of a {cls.a} \")\n",
    "e1 = Employee()\n",
    "e1.a = 45\n",
    "e1.show()     #Value changed to 1 becuz of class method        "
   ]
  }
 ],
 "metadata": {
  "kernelspec": {
   "display_name": "Python 3",
   "language": "python",
   "name": "python3"
  },
  "language_info": {
   "codemirror_mode": {
    "name": "ipython",
    "version": 3
   },
   "file_extension": ".py",
   "mimetype": "text/x-python",
   "name": "python",
   "nbconvert_exporter": "python",
   "pygments_lexer": "ipython3",
   "version": "3.12.3"
  }
 },
 "nbformat": 4,
 "nbformat_minor": 2
}
