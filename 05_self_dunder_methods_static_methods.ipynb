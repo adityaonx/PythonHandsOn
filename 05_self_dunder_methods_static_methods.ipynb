{
 "cells": [
  {
   "cell_type": "code",
   "execution_count": 9,
   "metadata": {},
   "outputs": [
    {
     "name": "stdout",
     "output_type": "stream",
     "text": [
      "The language is Python. The salary is 1200000\n",
      "Hi\n"
     ]
    }
   ],
   "source": [
    "class Employee:\n",
    "        def __init__(self,lang,name,salary):#dunder method will be automatically called\n",
    "                self.language = lang\n",
    "                self.name = name\n",
    "                self.salary = salary\n",
    "        salary = 1200000\n",
    "        def getInfo(self):\n",
    "                print(f\"The language is {self.language}. The salary is {self.salary}\")\n",
    "        @staticmethod\n",
    "        def greet():    \n",
    "                print(\"Hi\")                   \n",
    "      \n",
    "aditya = Employee(\"Python\",\"Aditya\",1200000)\n",
    "#Equivalent to Employee.getInfo(aditya)\n",
    "aditya.getInfo()\n",
    "aditya.greet()\n"
   ]
  }
 ],
 "metadata": {
  "kernelspec": {
   "display_name": "Python 3",
   "language": "python",
   "name": "python3"
  },
  "language_info": {
   "codemirror_mode": {
    "name": "ipython",
    "version": 3
   },
   "file_extension": ".py",
   "mimetype": "text/x-python",
   "name": "python",
   "nbconvert_exporter": "python",
   "pygments_lexer": "ipython3",
   "version": "3.12.3"
  }
 },
 "nbformat": 4,
 "nbformat_minor": 2
}
