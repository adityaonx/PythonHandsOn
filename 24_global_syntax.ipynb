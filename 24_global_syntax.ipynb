{
 "cells": [
  {
   "cell_type": "code",
   "execution_count": 4,
   "metadata": {},
   "outputs": [
    {
     "name": "stdout",
     "output_type": "stream",
     "text": [
      "x value 0\n",
      "Out value 1\n"
     ]
    }
   ],
   "source": [
    "#Access and Modify global variable inside a function\n",
    "a = 4\n",
    "def x():\n",
    "    global a\n",
    "    a=0\n",
    "    print(f\"x value {a}\")\n",
    "x()\n",
    "a = 1\n",
    "print(f\"Out value {a}\")\n"
   ]
  }
 ],
 "metadata": {
  "kernelspec": {
   "display_name": "pyNotebook",
   "language": "python",
   "name": "python3"
  },
  "language_info": {
   "codemirror_mode": {
    "name": "ipython",
    "version": 3
   },
   "file_extension": ".py",
   "mimetype": "text/x-python",
   "name": "python",
   "nbconvert_exporter": "python",
   "pygments_lexer": "ipython3",
   "version": "3.12.3"
  }
 },
 "nbformat": 4,
 "nbformat_minor": 2
}
