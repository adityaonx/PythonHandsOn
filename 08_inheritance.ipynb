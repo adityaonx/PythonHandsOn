{
 "cells": [
  {
   "cell_type": "code",
   "execution_count": 1,
   "metadata": {},
   "outputs": [
    {
     "name": "stdout",
     "output_type": "stream",
     "text": [
      "Company name is Google\n",
      "Employee works with Python\n"
     ]
    }
   ],
   "source": [
    "class Employee():\n",
    "        company = \"Google\"\n",
    "        def show(self):\n",
    "                print(f\"Company name is {self.company}\")\n",
    "                \n",
    "class Programmer(Employee):\n",
    "        language = \"Python\"\n",
    "        def showLang(self):\n",
    "                print(f\"Employee works with {self.language}\")\n",
    "\n",
    "p1 = Programmer()\n",
    "p1.show()\n",
    "p1.showLang()"
   ]
  },
  {
   "cell_type": "code",
   "execution_count": null,
   "metadata": {},
   "outputs": [],
   "source": []
  }
 ],
 "metadata": {
  "kernelspec": {
   "display_name": "Python 3",
   "language": "python",
   "name": "python3"
  },
  "language_info": {
   "codemirror_mode": {
    "name": "ipython",
    "version": 3
   },
   "file_extension": ".py",
   "mimetype": "text/x-python",
   "name": "python",
   "nbconvert_exporter": "python",
   "pygments_lexer": "ipython3",
   "version": "3.12.3"
  }
 },
 "nbformat": 4,
 "nbformat_minor": 2
}
