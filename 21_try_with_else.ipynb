{
 "cells": [
  {
   "cell_type": "code",
   "execution_count": null,
   "metadata": {},
   "outputs": [],
   "source": [
    "try:\n",
    "    n = int(input(\"Enter a number\"))\n",
    "    print(f\"Entered number is {n}\")\n",
    "except Exception as e:\n",
    "    print(e)\n",
    "    \n",
    "#Only runs if try executes successfully!\n",
    "else:    \n",
    "    print(\"Code will still continue to execute\")"
   ]
  }
 ],
 "metadata": {
  "language_info": {
   "name": "python"
  }
 },
 "nbformat": 4,
 "nbformat_minor": 2
}
