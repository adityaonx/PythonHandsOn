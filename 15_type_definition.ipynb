{
 "cells": [
  {
   "cell_type": "code",
   "execution_count": 6,
   "metadata": {},
   "outputs": [
    {
     "name": "stdout",
     "output_type": "stream",
     "text": [
      "String\n"
     ]
    }
   ],
   "source": [
    "s1 : str = \"string\"\n",
    "print(s1.capitalize())\n"
   ]
  },
  {
   "cell_type": "code",
   "execution_count": 1,
   "metadata": {},
   "outputs": [
    {
     "ename": "TypingError",
     "evalue": "\ninvalid positional argument type in call of 'num', <function num at 0x7f64a0304a40>\n\tpositional argument 'n' must be of type <int>\n\tfound positional argument of type <str> from the value 'Hello'",
     "output_type": "error",
     "traceback": [
      "\u001b[0;31m---------------------------------------------------------------------------\u001b[0m",
      "\u001b[0;31mTypingError\u001b[0m                               Traceback (most recent call last)",
      "Cell \u001b[0;32mIn[1], line 8\u001b[0m\n\u001b[1;32m      3\u001b[0m \u001b[38;5;129m@strictly\u001b[39m\n\u001b[1;32m      4\u001b[0m \u001b[38;5;28;01mdef\u001b[39;00m \u001b[38;5;21mnum\u001b[39m(n:\u001b[38;5;28mint\u001b[39m):\n\u001b[1;32m      5\u001b[0m         \u001b[38;5;28mprint\u001b[39m(n)\n\u001b[0;32m----> 8\u001b[0m \u001b[43mnum\u001b[49m\u001b[43m(\u001b[49m\u001b[38;5;124;43m\"\u001b[39;49m\u001b[38;5;124;43mHello\u001b[39;49m\u001b[38;5;124;43m\"\u001b[39;49m\u001b[43m)\u001b[49m\n",
      "File \u001b[0;32m~/projects/pythonProjects/pyNotebook/lib/python3.12/site-packages/strictly.py:118\u001b[0m, in \u001b[0;36mstrictly.<locals>.strictly_typed_func\u001b[0;34m(*args, **kwargs)\u001b[0m\n\u001b[1;32m    116\u001b[0m     \u001b[38;5;28;01mif\u001b[39;00m \u001b[38;5;129;01mnot\u001b[39;00m \u001b[38;5;28misinstance\u001b[39m(arg, types):\n\u001b[1;32m    117\u001b[0m         _ \u001b[38;5;241m=\u001b[39m (\u001b[38;5;124mf\u001b[39m\u001b[38;5;124m\"\u001b[39m\u001b[38;5;124mpositional argument\u001b[39m\u001b[38;5;124m\"\u001b[39m, name, func, arg, types)\n\u001b[0;32m--> 118\u001b[0m         \u001b[38;5;28;01mraise\u001b[39;00m TypingError(\u001b[38;5;241m*\u001b[39m_ \u001b[38;5;66;03m# this line is from strictly\u001b[39;00m\n\u001b[1;32m    119\u001b[0m         )\n\u001b[1;32m    120\u001b[0m \u001b[38;5;66;03m# check all keyword arguments\u001b[39;00m\n\u001b[1;32m    121\u001b[0m \u001b[38;5;28;01mfor\u001b[39;00m kw, arg \u001b[38;5;129;01min\u001b[39;00m kwargs\u001b[38;5;241m.\u001b[39mitems():\n",
      "\u001b[0;31mTypingError\u001b[0m: \ninvalid positional argument type in call of 'num', <function num at 0x7f64a0304a40>\n\tpositional argument 'n' must be of type <int>\n\tfound positional argument of type <str> from the value 'Hello'"
     ]
    }
   ],
   "source": [
    "from strictly import *\n",
    "\n",
    "@strictly\n",
    "def num(n:int):\n",
    "        print(n)\n",
    "\n",
    "\n",
    "num(\"Hello\")"
   ]
  }
 ],
 "metadata": {
  "kernelspec": {
   "display_name": "Python 3",
   "language": "python",
   "name": "python3"
  },
  "language_info": {
   "codemirror_mode": {
    "name": "ipython",
    "version": 3
   },
   "file_extension": ".py",
   "mimetype": "text/x-python",
   "name": "python",
   "nbconvert_exporter": "python",
   "pygments_lexer": "ipython3",
   "version": "3.12.3"
  }
 },
 "nbformat": 4,
 "nbformat_minor": 2
}
