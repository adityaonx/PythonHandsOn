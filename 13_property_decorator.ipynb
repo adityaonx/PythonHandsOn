{
 "cells": [
  {
   "cell_type": "code",
   "execution_count": 3,
   "metadata": {},
   "outputs": [
    {
     "name": "stdout",
     "output_type": "stream",
     "text": [
      "The full name is Aditya Sahu\n"
     ]
    }
   ],
   "source": [
    "class Employee():\n",
    "          \n",
    "        @property\n",
    "        def name(self):\n",
    "                return f\"The full name is {self.fname} {self.lname}\"\n",
    "        @name.setter\n",
    "        def name(self,value):\n",
    "                self.fname = value.split(\" \")[0]\n",
    "                self.lname = value.split(\" \")[1]   \n",
    "                                \n",
    "e1 = Employee()\n",
    "e1.name = \"Aditya Sahu\"  \n",
    "print(e1.name) #No need to put () on property methods "
   ]
  }
 ],
 "metadata": {
  "kernelspec": {
   "display_name": "Python 3",
   "language": "python",
   "name": "python3"
  },
  "language_info": {
   "codemirror_mode": {
    "name": "ipython",
    "version": 3
   },
   "file_extension": ".py",
   "mimetype": "text/x-python",
   "name": "python",
   "nbconvert_exporter": "python",
   "pygments_lexer": "ipython3",
   "version": "3.12.3"
  }
 },
 "nbformat": 4,
 "nbformat_minor": 2
}
