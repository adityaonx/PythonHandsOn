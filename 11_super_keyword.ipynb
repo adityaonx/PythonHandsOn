{
 "cells": [
  {
   "cell_type": "code",
   "execution_count": 8,
   "metadata": {},
   "outputs": [
    {
     "name": "stdout",
     "output_type": "stream",
     "text": [
      "Employee class constructor\n",
      "Coder class constructor\n",
      "Programmer class constructor\n",
      "Employee works with Python\n",
      "Company name is Google\n",
      "PRG\n",
      "Name is Aditya \n"
     ]
    }
   ],
   "source": [
    "#Only called class object will run its constructor and not parent's constructor by default, need to call using super()\n",
    "class Employee():\n",
    "        def __init__(self):\n",
    "                self.name = \"Aditya\"\n",
    "                print(\"Employee class constructor\") \n",
    "        def showName(self):\n",
    "                print(f\"Name is {self.name} \")\n",
    "        company = \"Google\"\n",
    "        def showInfo(self):\n",
    "                print(f\"Company name is {self.company}\")\n",
    "        language = \"Javascript\"\n",
    "        def showLang(self):\n",
    "                 print(f\"Employee works with {self.language}\")\n",
    "                \n",
    "class Coder(Employee):\n",
    "        def __init__(self):\n",
    "                super().__init__()\n",
    "                print(\"Coder class constructor\")\n",
    "        language = \"Python\"\n",
    "        def showLang(self):\n",
    "                print(f\"Employee works with {self.language}\")\n",
    "class Programmer(Coder):\n",
    "        def __init__(self):\n",
    "                super().__init__()\n",
    "                print(\"Programmer class constructor\")\n",
    "        def showName(self):\n",
    "                print(\"PRG\")\n",
    "                super().showName()\n",
    "                        \n",
    "p1 = Programmer()\n",
    "p1.showLang()\n",
    "p1.showInfo()\n",
    "p1.showName()"
   ]
  },
  {
   "cell_type": "code",
   "execution_count": null,
   "metadata": {},
   "outputs": [],
   "source": []
  }
 ],
 "metadata": {
  "kernelspec": {
   "display_name": "Python 3",
   "language": "python",
   "name": "python3"
  },
  "language_info": {
   "codemirror_mode": {
    "name": "ipython",
    "version": 3
   },
   "file_extension": ".py",
   "mimetype": "text/x-python",
   "name": "python",
   "nbconvert_exporter": "python",
   "pygments_lexer": "ipython3",
   "version": "3.12.3"
  }
 },
 "nbformat": 4,
 "nbformat_minor": 2
}
