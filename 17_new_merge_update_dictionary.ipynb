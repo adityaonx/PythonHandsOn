{
 "cells": [
  {
   "cell_type": "code",
   "execution_count": 1,
   "metadata": {},
   "outputs": [
    {
     "name": "stdout",
     "output_type": "stream",
     "text": [
      "{'a': 1, 'b': 2, 'c': 3, 'x': 9, 'y': 8, 'z': 7}\n"
     ]
    }
   ],
   "source": [
    "dic1 = {\"a\":1,\"b\":2,\"c\":3}\n",
    "dic2 = {\"x\":9,\"y\":8,\"z\":7}\n",
    "new_dic = dic1 | dic2\n",
    "print(new_dic)"
   ]
  }
 ],
 "metadata": {
  "kernelspec": {
   "display_name": "pyNotebook",
   "language": "python",
   "name": "python3"
  },
  "language_info": {
   "codemirror_mode": {
    "name": "ipython",
    "version": 3
   },
   "file_extension": ".py",
   "mimetype": "text/x-python",
   "name": "python",
   "nbconvert_exporter": "python",
   "pygments_lexer": "ipython3",
   "version": "3.12.3"
  }
 },
 "nbformat": 4,
 "nbformat_minor": 2
}
