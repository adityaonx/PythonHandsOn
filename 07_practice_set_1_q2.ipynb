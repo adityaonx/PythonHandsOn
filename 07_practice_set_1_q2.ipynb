{
 "cells": [
  {
   "cell_type": "code",
   "execution_count": 13,
   "metadata": {},
   "outputs": [
    {
     "name": "stdout",
     "output_type": "stream",
     "text": [
      "Ticket Booked Successfully \n",
      "Booked Ticket No. is 5\n",
      "Available seats : 4\n",
      "Seats Fares:\n",
      "Seat 1 has a price of 500\n",
      "Seat 2 has a price of 400\n",
      "Seat 3 has a price of 300\n",
      "Seat 4 has a price of 200\n",
      "Seat 5 has a price of 100\n"
     ]
    }
   ],
   "source": [
    "class Train():\n",
    "        fare = {1:\"500\",2:\"400\",3:\"300\",4:\"200\",5:\"100\"}\n",
    "        seats=5\n",
    "        def book_ticket(self):\n",
    "               self.booked_number = self.seats\n",
    "               self.seats= self.seats - 1\n",
    "               return self.booked_number\n",
    "                 \n",
    "        def get_status(self):\n",
    "                return self.seats\n",
    "        def get_fare_info(self):\n",
    "                print(\"Seats Fares:\")\n",
    "                for i in self.fare:\n",
    "                        print(f\"Seat {i} has a price of {self.fare[i]}\")\n",
    "                \n",
    "t1 = Train()\n",
    "print(f\"Ticket Booked Successfully \\nBooked Ticket No. is {t1.book_ticket()}\")\n",
    "print(f\"Available seats : {t1.get_status()}\")\n",
    "t1.get_fare_info()"
   ]
  },
  {
   "cell_type": "code",
   "execution_count": null,
   "metadata": {},
   "outputs": [],
   "source": []
  }
 ],
 "metadata": {
  "kernelspec": {
   "display_name": "Python 3",
   "language": "python",
   "name": "python3"
  },
  "language_info": {
   "codemirror_mode": {
    "name": "ipython",
    "version": 3
   },
   "file_extension": ".py",
   "mimetype": "text/x-python",
   "name": "python",
   "nbconvert_exporter": "python",
   "pygments_lexer": "ipython3",
   "version": "3.12.3"
  }
 },
 "nbformat": 4,
 "nbformat_minor": 2
}
