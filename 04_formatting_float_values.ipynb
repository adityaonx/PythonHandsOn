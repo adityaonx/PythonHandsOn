{
 "cells": [
  {
   "cell_type": "code",
   "execution_count": 2,
   "metadata": {},
   "outputs": [
    {
     "name": "stdout",
     "output_type": "stream",
     "text": [
      "123.46\n",
      "123.5\n",
      "123\n"
     ]
    }
   ],
   "source": [
    "value = 123.45678\n",
    "\n",
    "# Format to two decimal places\n",
    "formatted_value = \"%.2f\" % value\n",
    "print(formatted_value)  # Output: 123.46\n",
    "\n",
    "# Format to one decimal place\n",
    "formatted_value = \"%.1f\" % value\n",
    "print(formatted_value)  # Output: 123.5\n",
    "\n",
    "# Format with no decimal places (integer format)\n",
    "formatted_value = \"%d\" % value\n",
    "print(formatted_value)  # Output: 123\n"
   ]
  }
 ],
 "metadata": {
  "kernelspec": {
   "display_name": "00_my_project_env",
   "language": "python",
   "name": "python3"
  },
  "language_info": {
   "codemirror_mode": {
    "name": "ipython",
    "version": 3
   },
   "file_extension": ".py",
   "mimetype": "text/x-python",
   "name": "python",
   "nbconvert_exporter": "python",
   "pygments_lexer": "ipython3",
   "version": "3.12.3"
  }
 },
 "nbformat": 4,
 "nbformat_minor": 2
}
