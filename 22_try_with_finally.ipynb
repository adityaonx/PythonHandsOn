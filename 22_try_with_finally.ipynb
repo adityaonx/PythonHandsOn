{
 "cells": [
  {
   "cell_type": "code",
   "execution_count": 2,
   "metadata": {},
   "outputs": [
    {
     "name": "stdout",
     "output_type": "stream",
     "text": [
      "Entered number is 5\n"
     ]
    }
   ],
   "source": [
    "#1after return is called anything after it wont be called!\n",
    "def main():\n",
    "    try:\n",
    "        n = int(input(\"Enter a number\"))\n",
    "        print(f\"Entered number is {n}\")\n",
    "        return \n",
    "        \n",
    "    except Exception as e:\n",
    "        print(e)\n",
    "        return \n",
    "        \n",
    "    #Only runs if try executes successfully!\n",
    "    else:    \n",
    "        print(\"Code will still continue to execute\")\n",
    "    print(\"I will always run!\")\n",
    "        \n",
    "main()"
   ]
  },
  {
   "cell_type": "code",
   "execution_count": null,
   "metadata": {},
   "outputs": [],
   "source": [
    "#2Using finally to run code even after the function is called to return \n",
    "def main():\n",
    "    try:\n",
    "        n = int(input(\"Enter a number\"))\n",
    "        print(f\"Entered number is {n}\")\n",
    "        return \n",
    "        \n",
    "    except Exception as e:\n",
    "        print(e)\n",
    "        return \n",
    "        \n",
    "    #Only runs if try executes successfully!\n",
    "    else:    \n",
    "        print(\"Code will still continue to execute\")\n",
    "    finally:\n",
    "        print(\"I will always run!\")\n",
    "        \n",
    "main()"
   ]
  }
 ],
 "metadata": {
  "kernelspec": {
   "display_name": "pyNotebook",
   "language": "python",
   "name": "python3"
  },
  "language_info": {
   "codemirror_mode": {
    "name": "ipython",
    "version": 3
   },
   "file_extension": ".py",
   "mimetype": "text/x-python",
   "name": "python",
   "nbconvert_exporter": "python",
   "pygments_lexer": "ipython3",
   "version": "3.12.3"
  }
 },
 "nbformat": 4,
 "nbformat_minor": 2
}
