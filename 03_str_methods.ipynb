{
 "cells": [
  {
   "cell_type": "markdown",
   "id": "9fe8ba0c",
   "metadata": {},
   "source": [
    "STRING Methods\n",
    "O. Only read substring in string\n",
    "1. startswith\t\t(substring[,start[,end]]) True/False\n",
    "2. endswith\t\t(substring[,start[,end]]) True/False\t\n",
    "3. find\t\t\t(substring[,start[,end]]) index else -1\n",
    "4. rfind\t\t(substring[,start[,end]]) index else -1\n",
    "5. index\t\t(substring[,start[,end]]) index else raises ValueError\n",
    "6. rindex\t\t(substring[,start[,end]]) index else raises ValueError\n",
    "7. count\t\t(substring[,start[,end]]) returns number\n",
    "\n",
    "I. Simple Manipulation\n",
    "1. upper \t    ()\n",
    "2. lower \t    ()\n",
    "3. capitalize\t()\n",
    "4. casefold (aggressive lower)\n",
    "5. title        ()\n",
    "\n",
    "II. Join/Split\n",
    "1. join         (list/typle/dict/string)\n",
    "2. split        (sep=None , maxsplit = -1)\n",
    "3. splitlines   (keepends= False)\n",
    "\n",
    "III. fillchar Manipulation\n",
    "1. center\t(width[,fillchar])\n",
    "2. ljust\t\t(width[,fillchar])\n",
    "3. rjust\t(width[,fillchar])\n",
    "4. zfill    (width)\n",
    "5. strip\t([,replaceWithChar])\n",
    "6. rstrip\t([,replaceWithChar])\n",
    "\n",
    "IV. Formatting String\n",
    "1. format\t(*args,**kwargs)\n",
    "2. format_map\t(dict)"
   ]
  },
  {
   "cell_type": "code",
   "execution_count": 18,
   "id": "2ce94d36-2c07-487b-a2b1-d18fa5e3dab9",
   "metadata": {},
   "outputs": [],
   "source": [
    "#initializing a string\n",
    "str1 = \"hello MY MY world\""
   ]
  },
  {
   "cell_type": "markdown",
   "id": "839d8a72",
   "metadata": {},
   "source": [
    "O. Only read substring in string\n",
    "1. startswith\t\t(substring[,start[,end]]) True/False\n",
    "2. endswith\t\t(substring[,start[,end]]) True/False\t\n",
    "3. find\t\t\t(substring[,start[,end]]) index else -1\n",
    "4. rfind\t\t(substring[,start[,end]]) index else -1\n",
    "5. index\t\t(substring[,start[,end]]) index else raises ValueError\n",
    "6. rindex\t\t(substring[,start[,end]]) index else raises ValueError\n",
    "7. count\t\t(substring[,start[,end]]) returns number"
   ]
  },
  {
   "cell_type": "code",
   "execution_count": 19,
   "id": "2e67286c",
   "metadata": {},
   "outputs": [
    {
     "name": "stdout",
     "output_type": "stream",
     "text": [
      "True\n"
     ]
    }
   ],
   "source": [
    "'''1. startswith(prefix [,start[,end]] )'''\n",
    "#Returns true if endswith the specified prefix otherwise false\n",
    "\n",
    "#Example2\n",
    "raw_string = 'hellomynameis'\n",
    "print(raw_string.startswith('hello'))"
   ]
  },
  {
   "cell_type": "code",
   "execution_count": 20,
   "id": "9fba865c",
   "metadata": {},
   "outputs": [
    {
     "name": "stdout",
     "output_type": "stream",
     "text": [
      "True\n"
     ]
    }
   ],
   "source": [
    "#Example2\n",
    "raw_string = 'hellomynameis'\n",
    "print(raw_string.startswith('my',5))"
   ]
  },
  {
   "cell_type": "code",
   "execution_count": 21,
   "id": "5bb1b745",
   "metadata": {},
   "outputs": [
    {
     "name": "stdout",
     "output_type": "stream",
     "text": [
      "True\n"
     ]
    }
   ],
   "source": [
    "''' 2. endswith(suffix [,start[,end]] )'''\n",
    "#Returns True if endswith the specified suffix otherwise False\n",
    "\n",
    "#Example1\n",
    "raw_string = 'hellomynameis'\n",
    "print(raw_string.endswith('is'))"
   ]
  },
  {
   "cell_type": "code",
   "execution_count": 27,
   "id": "1f9b23cd",
   "metadata": {},
   "outputs": [
    {
     "name": "stdout",
     "output_type": "stream",
     "text": [
      "False\n"
     ]
    }
   ],
   "source": [
    "#Example2\n",
    "raw_string = 'hellomynameis'\n",
    "print(raw_string.endswith('is',0,7))"
   ]
  },
  {
   "cell_type": "code",
   "execution_count": 23,
   "id": "eb5dd38a-c069-4a35-94d8-174ef3a82fc7",
   "metadata": {},
   "outputs": [
    {
     "name": "stdout",
     "output_type": "stream",
     "text": [
      "7\n"
     ]
    }
   ],
   "source": [
    "''' 3. find '''\n",
    "#find the index of the string but not raise ValueError if sub_string is not found\n",
    "\n",
    "#Example1\n",
    "raw_string = 'hellomynameis'\n",
    "print(raw_string.find(\"name\"))\n"
   ]
  },
  {
   "cell_type": "code",
   "execution_count": 24,
   "id": "a57028e6-2da7-4764-9b9e-6678d2e0d4a4",
   "metadata": {},
   "outputs": [
    {
     "name": "stdout",
     "output_type": "stream",
     "text": [
      "-1\n"
     ]
    }
   ],
   "source": [
    "#Example2\n",
    "raw_string = 'hellomynameis'\n",
    "print(raw_string.find(\"name\",0,5))\n"
   ]
  },
  {
   "cell_type": "code",
   "execution_count": 25,
   "id": "bab4d4e3",
   "metadata": {},
   "outputs": [
    {
     "name": "stdout",
     "output_type": "stream",
     "text": [
      "7\n"
     ]
    }
   ],
   "source": [
    "''' 4. rfind '''\n",
    "#find from right side of string the index of the sub_string\n",
    "#Example1\n",
    "raw_string = 'hellomynameiskanoki'\n",
    "print(raw_string.rfind(\"name\"))\n"
   ]
  },
  {
   "cell_type": "code",
   "execution_count": 26,
   "id": "16a5c48c",
   "metadata": {},
   "outputs": [
    {
     "name": "stdout",
     "output_type": "stream",
     "text": [
      "13\n"
     ]
    }
   ],
   "source": [
    "#Example2\n",
    "raw_string = 'hellomynameiskanoki'\n",
    "print(raw_string.rfind(\"ka\"))\n"
   ]
  },
  {
   "cell_type": "code",
   "execution_count": null,
   "id": "4921ddf9",
   "metadata": {},
   "outputs": [],
   "source": [
    "''' 5. index (same as find but ValueError)'''\n",
    "#find the index of the string and raise ValueError if sub_string is not found\n",
    "#Example1\n",
    "raw_string = 'hellomynameiskanoki'\n",
    "print(raw_string.index(\"name\"))\n"
   ]
  },
  {
   "cell_type": "code",
   "execution_count": null,
   "id": "9684644c",
   "metadata": {},
   "outputs": [],
   "source": [
    "''' 6. rindex (same as rfind but ValueError)'''\n",
    "#find the index of the string and raise ValueError if sub_string is not found\n",
    "#Example1\n",
    "raw_string = 'hellomynameiskanoki'\n",
    "print(raw_string.rindex(\"kuldeep\"))\n"
   ]
  },
  {
   "cell_type": "code",
   "execution_count": null,
   "id": "ad2dbe9e",
   "metadata": {},
   "outputs": [],
   "source": [
    "''' 7. count(sub_string [,start[,end]])'''\n",
    "#Example1\n",
    "sub_string = \"MY\"\n",
    "res = str1.count(sub_string)\n",
    "print(res)"
   ]
  },
  {
   "cell_type": "code",
   "execution_count": null,
   "id": "980c926c",
   "metadata": {},
   "outputs": [],
   "source": [
    "#Example2\n",
    "sub_string = \"MY\"\n",
    "res = str1.count(sub_string,8,-1)\n",
    "print(res)"
   ]
  },
  {
   "cell_type": "markdown",
   "id": "a7e64fce",
   "metadata": {},
   "source": [
    "I. Simple Manipulation\n",
    "1. upper \t()\n",
    "2. lower \t()\n",
    "3. capitalize\t()\n",
    "4. casefold (aggressive lower)"
   ]
  },
  {
   "cell_type": "code",
   "execution_count": 28,
   "id": "c23a8ffe",
   "metadata": {},
   "outputs": [
    {
     "name": "stdout",
     "output_type": "stream",
     "text": [
      "HELLO THIS IS ADITYA!\n"
     ]
    }
   ],
   "source": [
    "raw_string = \"hello this is Aditya!\"\n",
    "print(raw_string.upper())"
   ]
  },
  {
   "cell_type": "code",
   "execution_count": 29,
   "id": "a4173991",
   "metadata": {},
   "outputs": [
    {
     "name": "stdout",
     "output_type": "stream",
     "text": [
      "hello this is aditya!\n"
     ]
    }
   ],
   "source": [
    "raw_string = \"hello this is Aditya!\"\n",
    "print(raw_string.lower())"
   ]
  },
  {
   "cell_type": "code",
   "execution_count": 30,
   "id": "92b27456",
   "metadata": {},
   "outputs": [
    {
     "name": "stdout",
     "output_type": "stream",
     "text": [
      "Hello this is aditya!\n"
     ]
    }
   ],
   "source": [
    "raw_string = \"hello this is Aditya!\"\n",
    "print(raw_string.capitalize())"
   ]
  },
  {
   "cell_type": "code",
   "execution_count": 31,
   "id": "2d2b6cb0",
   "metadata": {},
   "outputs": [
    {
     "name": "stdout",
     "output_type": "stream",
     "text": [
      "hello this is aditya!\n"
     ]
    }
   ],
   "source": [
    "raw_string = \"hello this is Aditya!\"\n",
    "print(raw_string.casefold())"
   ]
  },
  {
   "cell_type": "code",
   "execution_count": 32,
   "id": "16381157",
   "metadata": {},
   "outputs": [
    {
     "name": "stdout",
     "output_type": "stream",
     "text": [
      "Hello This Is Aditya!\n"
     ]
    }
   ],
   "source": [
    "raw_string = \"hello this is Aditya!\"\n",
    "print(raw_string.title())"
   ]
  },
  {
   "cell_type": "markdown",
   "id": "89318969",
   "metadata": {},
   "source": [
    "II. Join/Split\n",
    "1. join         (list/typle/dict/string)\n",
    "2. split        (sep=None , maxsplit = -1)\n",
    "3. splitlines   (keepends= False)"
   ]
  },
  {
   "cell_type": "code",
   "execution_count": 5,
   "id": "8a9922cb",
   "metadata": {},
   "outputs": [
    {
     "name": "stdout",
     "output_type": "stream",
     "text": [
      "A1 : B2 : C3\n"
     ]
    }
   ],
   "source": [
    "#1. join\n",
    "#Example1\n",
    "raw_string = \" : \"\n",
    "dict1 = ['A1','B2','C3']\n",
    "joined_string= raw_string.join(dict1)\n",
    "print(joined_string)"
   ]
  },
  {
   "cell_type": "code",
   "execution_count": 51,
   "id": "3d327a74",
   "metadata": {},
   "outputs": [
    {
     "name": "stdout",
     "output_type": "stream",
     "text": [
      "A1,2,3B1,2,3C\n"
     ]
    }
   ],
   "source": [
    "#Example2\n",
    "raw_string = \"1,2,3\"\n",
    "dict1 = {'A':'a','B':'b','C':'c'}\n",
    "joined_string= raw_string.join(dict1)\n",
    "print(joined_string)"
   ]
  },
  {
   "cell_type": "code",
   "execution_count": 41,
   "id": "e738b824",
   "metadata": {},
   "outputs": [
    {
     "name": "stdout",
     "output_type": "stream",
     "text": [
      "['Apple', 'Oranges', 'Mango']\n"
     ]
    }
   ],
   "source": [
    "#2. split\n",
    "raw_string = \"Apple,Oranges,Mango\"\n",
    "fruit_list= raw_string.split(\",\")\n",
    "print(fruit_list)"
   ]
  },
  {
   "cell_type": "code",
   "execution_count": 55,
   "id": "5a5a9436",
   "metadata": {},
   "outputs": [
    {
     "name": "stdout",
     "output_type": "stream",
     "text": [
      "['Apple,Oranges,Mango', '                Cucumber,Spinach,Cauliflower', '                ']\n"
     ]
    }
   ],
   "source": [
    "#2. splitlines(keepends=False)\n",
    "raw_string = '''Apple,Oranges,Mango\n",
    "                Cucumber,Spinach,Cauliflower\n",
    "                '''\n",
    "item_list= raw_string.splitlines(keepends=False)\n",
    "print(item_list)"
   ]
  },
  {
   "cell_type": "code",
   "execution_count": 56,
   "id": "4e026896",
   "metadata": {},
   "outputs": [
    {
     "name": "stdout",
     "output_type": "stream",
     "text": [
      "['Apple,Oranges,Mango\\n', '                Cucumber,Spinach,Cauliflower\\n', '                ']\n"
     ]
    }
   ],
   "source": [
    "#2. splitlines(keepends=True)\n",
    "raw_string = '''Apple,Oranges,Mango\n",
    "                Cucumber,Spinach,Cauliflower\n",
    "                '''\n",
    "item_list= raw_string.splitlines(keepends=True)\n",
    "print(item_list)"
   ]
  },
  {
   "cell_type": "markdown",
   "id": "4b51caa4",
   "metadata": {},
   "source": [
    "III. fillchar Manipulation\n",
    "1. center\t(width[,fillchar])\n",
    "2. ljust\t\t(width[,fillchar])\n",
    "3. rjust\t(width[,fillchar])\n",
    "4. zfill    (width)\n",
    "5. strip\t([,replaceWithChar])\n",
    "6. lstrip   ([,replaceWithChar])\n",
    "7. rstrip\t([,replaceWithChar])"
   ]
  },
  {
   "cell_type": "code",
   "execution_count": 58,
   "id": "141d15be",
   "metadata": {},
   "outputs": [
    {
     "name": "stdout",
     "output_type": "stream",
     "text": [
      "  Aditya  \n"
     ]
    }
   ],
   "source": [
    "#1.center\n",
    "raw_string = \"Aditya\"\n",
    "print(raw_string.center(10))"
   ]
  },
  {
   "cell_type": "code",
   "execution_count": 60,
   "id": "348fad84",
   "metadata": {},
   "outputs": [
    {
     "name": "stdout",
     "output_type": "stream",
     "text": [
      "Aditya    \n"
     ]
    }
   ],
   "source": [
    "#2.ljust\n",
    "raw_string = \"Aditya\"\n",
    "print(raw_string.ljust(10))"
   ]
  },
  {
   "cell_type": "code",
   "execution_count": 62,
   "id": "9e40df38",
   "metadata": {},
   "outputs": [
    {
     "name": "stdout",
     "output_type": "stream",
     "text": [
      "    Aditya\n"
     ]
    }
   ],
   "source": [
    "#3.rjust\n",
    "raw_string = \"Aditya\"\n",
    "print(raw_string.rjust(10))"
   ]
  },
  {
   "cell_type": "code",
   "execution_count": 64,
   "id": "0d32502c",
   "metadata": {},
   "outputs": [
    {
     "name": "stdout",
     "output_type": "stream",
     "text": [
      "0000Aditya\n"
     ]
    }
   ],
   "source": [
    "#4.zfill on left side width including = 10\n",
    "raw_string = \"Aditya\"\n",
    "print(raw_string.zfill(10))"
   ]
  },
  {
   "cell_type": "code",
   "execution_count": 66,
   "id": "33b07688",
   "metadata": {},
   "outputs": [
    {
     "name": "stdout",
     "output_type": "stream",
     "text": [
      "Aditya\n"
     ]
    }
   ],
   "source": [
    "#5.strip\n",
    "raw_string = \"  Aditya  \"\n",
    "print(raw_string.strip())"
   ]
  },
  {
   "cell_type": "code",
   "execution_count": 68,
   "id": "96777e16",
   "metadata": {},
   "outputs": [
    {
     "name": "stdout",
     "output_type": "stream",
     "text": [
      "Aditya  \n"
     ]
    }
   ],
   "source": [
    "#6. lstrip\n",
    "raw_string = \"  Aditya  \"\n",
    "print(raw_string.lstrip())"
   ]
  },
  {
   "cell_type": "code",
   "execution_count": 69,
   "id": "a6588a6f",
   "metadata": {},
   "outputs": [
    {
     "name": "stdout",
     "output_type": "stream",
     "text": [
      "  Aditya\n"
     ]
    }
   ],
   "source": [
    "#7. rstrip\n",
    "raw_string = \"  Aditya  \"\n",
    "print(raw_string.rstrip())"
   ]
  },
  {
   "cell_type": "markdown",
   "id": "558c2ab2",
   "metadata": {},
   "source": [
    "IV. Formatting String\n",
    "1. format\t(*args,\"\"kwargs)\n",
    "2. format_map\t(dict)"
   ]
  },
  {
   "cell_type": "code",
   "execution_count": 2,
   "id": "46073c18",
   "metadata": {},
   "outputs": [
    {
     "name": "stdout",
     "output_type": "stream",
     "text": [
      "Notebook is a pair of pen\n"
     ]
    }
   ],
   "source": [
    "#1.format(*args, **kwargs), creates a separate dictionary of mapping\n",
    "#Example.1\n",
    "dict1=[\"Notebook\",\"pen\"]\n",
    "raw_string = \"{} is a pair of {}\".format(*dict1)\n",
    "print(raw_string)"
   ]
  },
  {
   "cell_type": "code",
   "execution_count": 3,
   "id": "0ebed822",
   "metadata": {},
   "outputs": [
    {
     "name": "stdout",
     "output_type": "stream",
     "text": [
      "Notebook is a pair of pen\n"
     ]
    }
   ],
   "source": [
    "#1.format(*args, **kwargs), creates a separate dictionary of mapping\n",
    "#Example.2\n",
    "dict1={\"key1\":\"Notebook\",\"key2\":\"pen\"}\n",
    "raw_string = \"{key1} is a pair of {key2}\".format(**dict1)\n",
    "print(raw_string)"
   ]
  },
  {
   "cell_type": "code",
   "execution_count": 93,
   "id": "119aae42",
   "metadata": {},
   "outputs": [
    {
     "name": "stdout",
     "output_type": "stream",
     "text": [
      "Notebook is a pair of pen\n"
     ]
    }
   ],
   "source": [
    "#2.format_map(dict) returns without creating a new dictionary of mapping\n",
    "dict1={\"key1\":\"Notebook\",\"key2\":\"pen\"}\n",
    "raw_string = \"{key1} is a pair of {key2}\".format_map(dict1)\n",
    "print(raw_string)"
   ]
  }
 ],
 "metadata": {
  "kernelspec": {
   "display_name": "Python 3 (ipykernel)",
   "language": "python",
   "name": "python3"
  },
  "language_info": {
   "codemirror_mode": {
    "name": "ipython",
    "version": 3
   },
   "file_extension": ".py",
   "mimetype": "text/x-python",
   "name": "python",
   "nbconvert_exporter": "python",
   "pygments_lexer": "ipython3",
   "version": "3.12.3"
  }
 },
 "nbformat": 4,
 "nbformat_minor": 5
}
