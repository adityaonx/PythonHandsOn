{
 "cells": [
  {
   "cell_type": "code",
   "execution_count": 5,
   "metadata": {},
   "outputs": [
    {
     "name": "stdout",
     "output_type": "stream",
     "text": [
      "Employee works with Python\n",
      "Company name is Google\n"
     ]
    }
   ],
   "source": [
    "class Employee():\n",
    "        company = \"Google\"\n",
    "        def showInfo(self):\n",
    "                print(f\"Company name is {self.company}\")\n",
    "        language = \"Javascript\"\n",
    "        def showLang(self):\n",
    "                 print(f\"Employee works with {self.language}\")\n",
    "                \n",
    "class Coder(Employee):\n",
    "        language = \"Python\"\n",
    "        def showLang(self):\n",
    "                print(f\"Employee works with {self.language}\")\n",
    "class Programmer(Coder):\n",
    "        pass\n",
    "p1 = Programmer()\n",
    "p1.showLang()\n",
    "p1.showInfo()"
   ]
  },
  {
   "cell_type": "code",
   "execution_count": null,
   "metadata": {},
   "outputs": [],
   "source": []
  }
 ],
 "metadata": {
  "kernelspec": {
   "display_name": "Python 3",
   "language": "python",
   "name": "python3"
  },
  "language_info": {
   "codemirror_mode": {
    "name": "ipython",
    "version": 3
   },
   "file_extension": ".py",
   "mimetype": "text/x-python",
   "name": "python",
   "nbconvert_exporter": "python",
   "pygments_lexer": "ipython3",
   "version": "3.12.3"
  }
 },
 "nbformat": 4,
 "nbformat_minor": 2
}
